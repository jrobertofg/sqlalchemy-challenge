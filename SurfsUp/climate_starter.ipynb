{
 "cells": [
  {
   "cell_type": "code",
   "execution_count": 1,
   "metadata": {},
   "outputs": [],
   "source": [
    "%matplotlib inline\n",
    "from matplotlib import style\n",
    "style.use('fivethirtyeight')\n",
    "import matplotlib.pyplot as plt"
   ]
  },
  {
   "cell_type": "code",
   "execution_count": 2,
   "metadata": {},
   "outputs": [],
   "source": [
    "import numpy as np\n",
    "import pandas as pd\n",
    "import datetime as dt"
   ]
  },
  {
   "cell_type": "markdown",
   "metadata": {},
   "source": [
    "# Reflect Tables into SQLAlchemy ORM"
   ]
  },
  {
   "cell_type": "code",
   "execution_count": 3,
   "metadata": {},
   "outputs": [],
   "source": [
    "# Python SQL toolkit and Object Relational Mapper\n",
    "import sqlalchemy\n",
    "from sqlalchemy.ext.automap import automap_base\n",
    "from sqlalchemy.orm import Session\n",
    "from sqlalchemy import create_engine, func"
   ]
  },
  {
   "cell_type": "code",
   "execution_count": 17,
   "metadata": {},
   "outputs": [
    {
     "name": "stderr",
     "output_type": "stream",
     "text": [
      "C:\\Users\\jrobe\\AppData\\Local\\Temp\\ipykernel_464\\2530713852.py:8: SADeprecationWarning: The AutomapBase.prepare.reflect parameter is deprecated and will be removed in a future release.  Reflection is enabled when AutomapBase.prepare.autoload_with is passed.\n",
      "  Base.prepare(engine, reflect=True)\n"
     ]
    }
   ],
   "source": [
    "# create engine to hawaii.sqlite\n",
    "engine = create_engine(r\"sqlite:///C:\\Users\\jrobe\\Documents\\Challenge 10\\sqlalchemy-challenge\\Resources\\hawaii.sqlite\")\n",
    "engine\n",
    "# reflect an existing database into a new model\n",
    "Base = automap_base()\n",
    "\n",
    "# reflect the tables\n",
    "Base.prepare(engine, reflect=True)"
   ]
  },
  {
   "cell_type": "code",
   "execution_count": 18,
   "metadata": {},
   "outputs": [
    {
     "data": {
      "text/plain": [
       "['measurement', 'station']"
      ]
     },
     "execution_count": 18,
     "metadata": {},
     "output_type": "execute_result"
    }
   ],
   "source": [
    "# View all of the classes that automap found\n",
    "Base.classes.keys()"
   ]
  },
  {
   "cell_type": "code",
   "execution_count": 19,
   "metadata": {},
   "outputs": [],
   "source": [
    "# Save references to each table\n",
    "Station = Base.classes.station\n",
    "Measurement = Base.classes.measurement"
   ]
  },
  {
   "cell_type": "code",
   "execution_count": 20,
   "metadata": {},
   "outputs": [],
   "source": [
    "# Create our session (link) from Python to the DB\n",
    "session = Session(bind=engine)"
   ]
  },
  {
   "cell_type": "markdown",
   "metadata": {},
   "source": [
    "# Exploratory Precipitation Analysis"
   ]
  },
  {
   "cell_type": "code",
   "execution_count": 21,
   "metadata": {},
   "outputs": [
    {
     "data": {
      "text/plain": [
       "'2017-08-23'"
      ]
     },
     "execution_count": 21,
     "metadata": {},
     "output_type": "execute_result"
    }
   ],
   "source": [
    "# Find the most recent date in the data set.\n",
    "most_recent_date = session.query(func.max(Measurement.date)).scalar()\n",
    "most_recent_date"
   ]
  },
  {
   "cell_type": "code",
   "execution_count": 22,
   "metadata": {},
   "outputs": [
    {
     "ename": "NameError",
     "evalue": "name 'datetime' is not defined",
     "output_type": "error",
     "traceback": [
      "\u001b[1;31m---------------------------------------------------------------------------\u001b[0m",
      "\u001b[1;31mNameError\u001b[0m                                 Traceback (most recent call last)",
      "Cell \u001b[1;32mIn[22], line 6\u001b[0m\n\u001b[0;32m      1\u001b[0m \u001b[38;5;66;03m# Design a query to retrieve the last 12 months of precipitation data and plot the results.\u001b[39;00m\n\u001b[0;32m      2\u001b[0m \u001b[38;5;66;03m# Starting from the most recent data point in the database. \u001b[39;00m\n\u001b[0;32m      3\u001b[0m \n\u001b[0;32m      4\u001b[0m \u001b[38;5;66;03m# Calculate the date one year from the last date in data set.\u001b[39;00m\n\u001b[0;32m      5\u001b[0m most_recent_date \u001b[38;5;241m=\u001b[39m session\u001b[38;5;241m.\u001b[39mquery(func\u001b[38;5;241m.\u001b[39mmax(Measurement\u001b[38;5;241m.\u001b[39mdate))\u001b[38;5;241m.\u001b[39mscalar()\n\u001b[1;32m----> 6\u001b[0m most_recent_date \u001b[38;5;241m=\u001b[39m datetime\u001b[38;5;241m.\u001b[39mstrptime(most_recent_date, \u001b[38;5;124m'\u001b[39m\u001b[38;5;124m%\u001b[39m\u001b[38;5;124mY-\u001b[39m\u001b[38;5;124m%\u001b[39m\u001b[38;5;124mm-\u001b[39m\u001b[38;5;132;01m%d\u001b[39;00m\u001b[38;5;124m'\u001b[39m)\n\u001b[0;32m      7\u001b[0m one_year_ago \u001b[38;5;241m=\u001b[39m most_recent_date \u001b[38;5;241m-\u001b[39m timedelta(days\u001b[38;5;241m=\u001b[39m\u001b[38;5;241m365\u001b[39m)\n\u001b[0;32m      9\u001b[0m \u001b[38;5;66;03m# Perform a query to retrieve the data and precipitation scores\u001b[39;00m\n",
      "\u001b[1;31mNameError\u001b[0m: name 'datetime' is not defined"
     ]
    }
   ],
   "source": [
    "# Design a query to retrieve the last 12 months of precipitation data and plot the results.\n",
    "# Starting from the most recent data point in the database. \n",
    "\n",
    "# Calculate the date one year from the last date in data set.\n",
    "most_recent_date = session.query(func.max(Measurement.date)).scalar()\n",
    "most_recent_date = datetime.strptime(most_recent_date, '%Y-%m-%d')\n",
    "one_year_ago = most_recent_date - timedelta(days=365)\n",
    "\n",
    "# Perform a query to retrieve the data and precipitation scores\n",
    "precipitation_data = session.query(Measurement.date, Measurement.prcp).\\\n",
    "    filter(Measurement.date >= one_year_ago).all()\n",
    "\n",
    "# Save the query results as a Pandas DataFrame. Explicitly set the column names\n",
    "precipitation_df = pd.DataFrame(precipitation_data, columns=['Date', 'Precipitation'])\n",
    "\n",
    "# Sort the dataframe by date\n",
    "precipitation_df.sort_values(by='Date', inplace=True)\n",
    "\n",
    "# Use Pandas Plotting with Matplotlib to plot the data\n",
    "plt.figure(figsize=(10, 6))\n",
    "plt.bar(precipitation_df['Date'], precipitation_df['Precipitation'], width=4)\n",
    "plt.title('Precipitation in the Last 12 Months')\n",
    "plt.xlabel('Date')\n",
    "plt.ylabel('Precipitation (inches)')\n",
    "plt.xticks(rotation=90)\n",
    "plt.gca().xaxis.set_major_locator(plt.MaxNLocator(10))  # Adjust the number of date labels\n",
    "plt.tight_layout()\n",
    "plt.show()\n"
   ]
  },
  {
   "cell_type": "code",
   "execution_count": 31,
   "metadata": {},
   "outputs": [
    {
     "ename": "NameError",
     "evalue": "name 'precipitation_df' is not defined",
     "output_type": "error",
     "traceback": [
      "\u001b[1;31m---------------------------------------------------------------------------\u001b[0m",
      "\u001b[1;31mNameError\u001b[0m                                 Traceback (most recent call last)",
      "Cell \u001b[1;32mIn[31], line 2\u001b[0m\n\u001b[0;32m      1\u001b[0m \u001b[38;5;66;03m# Use Pandas to calculate the summary statistics for the precipitation data\u001b[39;00m\n\u001b[1;32m----> 2\u001b[0m summary_stats \u001b[38;5;241m=\u001b[39m precipitation_df\u001b[38;5;241m.\u001b[39mdescribe()\n\u001b[0;32m      3\u001b[0m summary_stats\n",
      "\u001b[1;31mNameError\u001b[0m: name 'precipitation_df' is not defined"
     ]
    }
   ],
   "source": [
    "# Use Pandas to calculate the summary statistics for the precipitation data\n",
    "summary_stats = precipitation_df.describe()\n",
    "summary_stats"
   ]
  },
  {
   "cell_type": "markdown",
   "metadata": {},
   "source": [
    "# Exploratory Station Analysis"
   ]
  },
  {
   "cell_type": "code",
   "execution_count": 32,
   "metadata": {},
   "outputs": [
    {
     "ename": "NameError",
     "evalue": "name 'Station' is not defined",
     "output_type": "error",
     "traceback": [
      "\u001b[1;31m---------------------------------------------------------------------------\u001b[0m",
      "\u001b[1;31mNameError\u001b[0m                                 Traceback (most recent call last)",
      "Cell \u001b[1;32mIn[32], line 2\u001b[0m\n\u001b[0;32m      1\u001b[0m \u001b[38;5;66;03m# Design a query to calculate the total number of stations in the dataset\u001b[39;00m\n\u001b[1;32m----> 2\u001b[0m total_stations \u001b[38;5;241m=\u001b[39m session\u001b[38;5;241m.\u001b[39mquery(func\u001b[38;5;241m.\u001b[39mcount(Station\u001b[38;5;241m.\u001b[39mstation))\u001b[38;5;241m.\u001b[39mscalar()\n\u001b[0;32m      3\u001b[0m total_stations\n",
      "\u001b[1;31mNameError\u001b[0m: name 'Station' is not defined"
     ]
    }
   ],
   "source": [
    "# Design a query to calculate the total number of stations in the dataset\n",
    "total_stations = session.query(func.count(Station.station)).scalar()\n",
    "total_stations"
   ]
  },
  {
   "cell_type": "code",
   "execution_count": 33,
   "metadata": {},
   "outputs": [
    {
     "ename": "NameError",
     "evalue": "name 'Measurement' is not defined",
     "output_type": "error",
     "traceback": [
      "\u001b[1;31m---------------------------------------------------------------------------\u001b[0m",
      "\u001b[1;31mNameError\u001b[0m                                 Traceback (most recent call last)",
      "Cell \u001b[1;32mIn[33], line 2\u001b[0m\n\u001b[0;32m      1\u001b[0m \u001b[38;5;66;03m# Design a query to find the most active stations (i.e. which stations have the most rows?)\u001b[39;00m\n\u001b[1;32m----> 2\u001b[0m active_stations \u001b[38;5;241m=\u001b[39m session\u001b[38;5;241m.\u001b[39mquery(Measurement\u001b[38;5;241m.\u001b[39mstation, func\u001b[38;5;241m.\u001b[39mcount(Measurement\u001b[38;5;241m.\u001b[39mstation))\u001b[38;5;241m.\u001b[39m\\\n\u001b[0;32m      3\u001b[0m     group_by(Measurement\u001b[38;5;241m.\u001b[39mstation)\u001b[38;5;241m.\u001b[39m\\\n\u001b[0;32m      4\u001b[0m     order_by(func\u001b[38;5;241m.\u001b[39mcount(Measurement\u001b[38;5;241m.\u001b[39mstation)\u001b[38;5;241m.\u001b[39mdesc())\u001b[38;5;241m.\u001b[39mall()\n\u001b[0;32m      6\u001b[0m \u001b[38;5;66;03m# List the stations and their counts in descending order.\u001b[39;00m\n\u001b[0;32m      7\u001b[0m \u001b[38;5;28mprint\u001b[39m(\u001b[38;5;124m\"\u001b[39m\u001b[38;5;124mMost Active Stations:\u001b[39m\u001b[38;5;124m\"\u001b[39m)\n",
      "\u001b[1;31mNameError\u001b[0m: name 'Measurement' is not defined"
     ]
    }
   ],
   "source": [
    "# Design a query to find the most active stations (i.e. which stations have the most rows?)\n",
    "active_stations = session.query(Measurement.station, func.count(Measurement.station)).\\\n",
    "    group_by(Measurement.station).\\\n",
    "    order_by(func.count(Measurement.station).desc()).all()\n",
    "\n",
    "# List the stations and their counts in descending order.\n",
    "print(\"Most Active Stations:\")\n",
    "for station, count in active_stations:\n",
    "    print(f\"Station {station}: {count} observations\")"
   ]
  },
  {
   "cell_type": "code",
   "execution_count": 34,
   "metadata": {},
   "outputs": [
    {
     "ename": "NameError",
     "evalue": "name 'active_stations' is not defined",
     "output_type": "error",
     "traceback": [
      "\u001b[1;31m---------------------------------------------------------------------------\u001b[0m",
      "\u001b[1;31mNameError\u001b[0m                                 Traceback (most recent call last)",
      "Cell \u001b[1;32mIn[34], line 2\u001b[0m\n\u001b[0;32m      1\u001b[0m \u001b[38;5;66;03m# Using the most active station id from the previous query, calculate the lowest, highest, and average temperature.\u001b[39;00m\n\u001b[1;32m----> 2\u001b[0m most_active_station \u001b[38;5;241m=\u001b[39m active_stations[\u001b[38;5;241m0\u001b[39m][\u001b[38;5;241m0\u001b[39m]\n\u001b[0;32m      3\u001b[0m temp_data \u001b[38;5;241m=\u001b[39m session\u001b[38;5;241m.\u001b[39mquery(func\u001b[38;5;241m.\u001b[39mmin(Measurement\u001b[38;5;241m.\u001b[39mtobs), func\u001b[38;5;241m.\u001b[39mmax(Measurement\u001b[38;5;241m.\u001b[39mtobs), func\u001b[38;5;241m.\u001b[39mavg(Measurement\u001b[38;5;241m.\u001b[39mtobs))\u001b[38;5;241m.\u001b[39m\\\n\u001b[0;32m      4\u001b[0m     \u001b[38;5;28mfilter\u001b[39m(Measurement\u001b[38;5;241m.\u001b[39mstation \u001b[38;5;241m==\u001b[39m most_active_station)\u001b[38;5;241m.\u001b[39mall()\n\u001b[0;32m      6\u001b[0m \u001b[38;5;28mprint\u001b[39m(\u001b[38;5;124mf\u001b[39m\u001b[38;5;124m\"\u001b[39m\u001b[38;5;124mTemperature Analysis for Station \u001b[39m\u001b[38;5;132;01m{\u001b[39;00mmost_active_station\u001b[38;5;132;01m}\u001b[39;00m\u001b[38;5;124m:\u001b[39m\u001b[38;5;124m\"\u001b[39m)\n",
      "\u001b[1;31mNameError\u001b[0m: name 'active_stations' is not defined"
     ]
    }
   ],
   "source": [
    "# Using the most active station id from the previous query, calculate the lowest, highest, and average temperature.\n",
    "most_active_station = active_stations[0][0]\n",
    "temp_data = session.query(func.min(Measurement.tobs), func.max(Measurement.tobs), func.avg(Measurement.tobs)).\\\n",
    "    filter(Measurement.station == most_active_station).all()\n",
    "\n",
    "print(f\"Temperature Analysis for Station {most_active_station}:\")\n",
    "print(f\"Lowest Temperature Recorded: {temp_data[0][0]}°F\")\n",
    "print(f\"Highest Temperature Recorded: {temp_data[0][1]}°F\")\n",
    "print(f\"Average Temperature Recorded: {round(temp_data[0][2], 2)}°F\")"
   ]
  },
  {
   "cell_type": "code",
   "execution_count": 35,
   "metadata": {},
   "outputs": [
    {
     "ename": "NameError",
     "evalue": "name 'Measurement' is not defined",
     "output_type": "error",
     "traceback": [
      "\u001b[1;31m---------------------------------------------------------------------------\u001b[0m",
      "\u001b[1;31mNameError\u001b[0m                                 Traceback (most recent call last)",
      "Cell \u001b[1;32mIn[35], line 3\u001b[0m\n\u001b[0;32m      1\u001b[0m \u001b[38;5;66;03m# Using the most active station id\u001b[39;00m\n\u001b[0;32m      2\u001b[0m \u001b[38;5;66;03m# Query the last 12 months of temperature observation data for this station and plot the results as a histogram\u001b[39;00m\n\u001b[1;32m----> 3\u001b[0m temperature_data \u001b[38;5;241m=\u001b[39m session\u001b[38;5;241m.\u001b[39mquery(Measurement\u001b[38;5;241m.\u001b[39mdate, Measurement\u001b[38;5;241m.\u001b[39mtobs)\u001b[38;5;241m.\u001b[39m\\\n\u001b[0;32m      4\u001b[0m     \u001b[38;5;28mfilter\u001b[39m(Measurement\u001b[38;5;241m.\u001b[39mdate \u001b[38;5;241m>\u001b[39m\u001b[38;5;241m=\u001b[39m one_year_ago)\u001b[38;5;241m.\u001b[39m\\\n\u001b[0;32m      5\u001b[0m     \u001b[38;5;28mfilter\u001b[39m(Measurement\u001b[38;5;241m.\u001b[39mstation \u001b[38;5;241m==\u001b[39m most_active_station)\u001b[38;5;241m.\u001b[39m\\\n\u001b[0;32m      6\u001b[0m     order_by(Measurement\u001b[38;5;241m.\u001b[39mdate)\u001b[38;5;241m.\u001b[39mall()\n\u001b[0;32m      8\u001b[0m temperature_df \u001b[38;5;241m=\u001b[39m pd\u001b[38;5;241m.\u001b[39mDataFrame(temperature_data, columns\u001b[38;5;241m=\u001b[39m[\u001b[38;5;124m'\u001b[39m\u001b[38;5;124mDate\u001b[39m\u001b[38;5;124m'\u001b[39m, \u001b[38;5;124m'\u001b[39m\u001b[38;5;124mTemperature\u001b[39m\u001b[38;5;124m'\u001b[39m])\n\u001b[0;32m     10\u001b[0m plt\u001b[38;5;241m.\u001b[39mfigure(figsize\u001b[38;5;241m=\u001b[39m(\u001b[38;5;241m8\u001b[39m, \u001b[38;5;241m6\u001b[39m))\n",
      "\u001b[1;31mNameError\u001b[0m: name 'Measurement' is not defined"
     ]
    }
   ],
   "source": [
    "# Using the most active station id\n",
    "# Query the last 12 months of temperature observation data for this station and plot the results as a histogram\n",
    "temperature_data = session.query(Measurement.date, Measurement.tobs).\\\n",
    "    filter(Measurement.date >= one_year_ago).\\\n",
    "    filter(Measurement.station == most_active_station).\\\n",
    "    order_by(Measurement.date).all()\n",
    "\n",
    "temperature_df = pd.DataFrame(temperature_data, columns=['Date', 'Temperature'])\n",
    "\n",
    "plt.figure(figsize=(8, 6))\n",
    "plt.hist(temperature_df['Temperature'], bins=12)\n",
    "plt.title('Temperature Observation Data (Last 12 Months)')\n",
    "plt.xlabel('Temperature (°F)')\n",
    "plt.ylabel('Frequency')\n",
    "plt.legend(['tobs'])\n",
    "plt.tight_layout()\n",
    "plt.show()"
   ]
  },
  {
   "cell_type": "markdown",
   "metadata": {},
   "source": [
    "# Close Session"
   ]
  },
  {
   "cell_type": "code",
   "execution_count": 36,
   "metadata": {},
   "outputs": [],
   "source": [
    "# Close Session\n",
    "session.close()"
   ]
  },
  {
   "cell_type": "code",
   "execution_count": null,
   "metadata": {},
   "outputs": [],
   "source": []
  }
 ],
 "metadata": {
  "anaconda-cloud": {},
  "kernel_info": {
   "name": "python3"
  },
  "kernelspec": {
   "display_name": "Python 3 (ipykernel)",
   "language": "python",
   "name": "python3"
  },
  "language_info": {
   "codemirror_mode": {
    "name": "ipython",
    "version": 3
   },
   "file_extension": ".py",
   "mimetype": "text/x-python",
   "name": "python",
   "nbconvert_exporter": "python",
   "pygments_lexer": "ipython3",
   "version": "3.11.9"
  },
  "nteract": {
   "version": "0.12.3"
  },
  "varInspector": {
   "cols": {
    "lenName": 16,
    "lenType": 16,
    "lenVar": 40
   },
   "kernels_config": {
    "python": {
     "delete_cmd_postfix": "",
     "delete_cmd_prefix": "del ",
     "library": "var_list.py",
     "varRefreshCmd": "print(var_dic_list())"
    },
    "r": {
     "delete_cmd_postfix": ") ",
     "delete_cmd_prefix": "rm(",
     "library": "var_list.r",
     "varRefreshCmd": "cat(var_dic_list()) "
    }
   },
   "types_to_exclude": [
    "module",
    "function",
    "builtin_function_or_method",
    "instance",
    "_Feature"
   ],
   "window_display": false
  }
 },
 "nbformat": 4,
 "nbformat_minor": 2
}
